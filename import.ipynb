{
 "cells": [
  {
   "cell_type": "markdown",
   "id": "feb482f3-d9bd-465f-b0dd-7f651a379efb",
   "metadata": {},
   "source": [
    "# Convert FMI air quality data from to JSON and Parquet\n",
    "\n",
    "## ... from XML and WFS"
   ]
  },
  {
   "cell_type": "code",
   "execution_count": 2,
   "id": "7e8723eb-24c0-443b-8c0a-f97298207d39",
   "metadata": {},
   "outputs": [],
   "source": [
    "from fmiopendata.wfs import download_stored_query\n",
    "\n",
    "import pyarrow as pa\n",
    "import pandas as pd\n",
    "import numpy as np\n",
    "\n",
    "import json\n",
    "import gzip"
   ]
  },
  {
   "cell_type": "markdown",
   "id": "cf1e3ce5-4f61-40fd-bf16-dbbceee4b820",
   "metadata": {},
   "source": [
    "Let's download some air quality data first."
   ]
  },
  {
   "cell_type": "code",
   "execution_count": 3,
   "id": "fddcb38e-8d8e-45d2-ba6b-deb0941b0834",
   "metadata": {},
   "outputs": [],
   "source": [
    "obs = download_stored_query(\n",
    "    'urban::observations::airquality::hourly::multipointcoverage',\n",
    "    args=['timeseries=True'])"
   ]
  },
  {
   "cell_type": "markdown",
   "id": "00df2a69-c6f9-4f8b-a982-3f76fba7bd12",
   "metadata": {},
   "source": [
    "Then we'll pull out a complete list of all possible measurements."
   ]
  },
  {
   "cell_type": "code",
   "execution_count": 4,
   "id": "dc274b70-86d8-40d6-84a9-9edf847d39b8",
   "metadata": {},
   "outputs": [
    {
     "data": {
      "text/plain": [
       "{'AQINDEX_PT1H_avg',\n",
       " 'CO_PT1H_avg',\n",
       " 'NO2_PT1H_avg',\n",
       " 'NO_PT1H_avg',\n",
       " 'O3_PT1H_avg',\n",
       " 'PM10_PT1H_avg',\n",
       " 'PM25_PT1H_avg',\n",
       " 'QBCPM25_PT1H_AVG',\n",
       " 'SO2_PT1H_avg',\n",
       " 'TRSC_PT1H_avg'}"
      ]
     },
     "execution_count": 4,
     "metadata": {},
     "output_type": "execute_result"
    }
   ],
   "source": [
    "cols = set([v for p in obs.data for v in obs.data[p]])\n",
    "cols.remove('times')\n",
    "cols"
   ]
  },
  {
   "cell_type": "markdown",
   "id": "b7ff3af5-dc9c-46ec-9cf2-0bca2e43fb0b",
   "metadata": {},
   "source": [
    "And turn them into DataFrames, which we'll then merge into a single one."
   ]
  },
  {
   "cell_type": "code",
   "execution_count": 5,
   "id": "c9711e98-f472-456c-858b-67ac083a0ecc",
   "metadata": {},
   "outputs": [
    {
     "data": {
      "text/html": [
       "<div>\n",
       "<style scoped>\n",
       "    .dataframe tbody tr th:only-of-type {\n",
       "        vertical-align: middle;\n",
       "    }\n",
       "\n",
       "    .dataframe tbody tr th {\n",
       "        vertical-align: top;\n",
       "    }\n",
       "\n",
       "    .dataframe thead th {\n",
       "        text-align: right;\n",
       "    }\n",
       "</style>\n",
       "<table border=\"1\" class=\"dataframe\">\n",
       "  <thead>\n",
       "    <tr style=\"text-align: right;\">\n",
       "      <th></th>\n",
       "      <th></th>\n",
       "      <th>TRSC_PT1H_avg</th>\n",
       "      <th>AQINDEX_PT1H_avg</th>\n",
       "      <th>NO_PT1H_avg</th>\n",
       "      <th>QBCPM25_PT1H_AVG</th>\n",
       "      <th>PM10_PT1H_avg</th>\n",
       "      <th>O3_PT1H_avg</th>\n",
       "      <th>NO2_PT1H_avg</th>\n",
       "      <th>CO_PT1H_avg</th>\n",
       "      <th>PM25_PT1H_avg</th>\n",
       "      <th>SO2_PT1H_avg</th>\n",
       "    </tr>\n",
       "    <tr>\n",
       "      <th>place</th>\n",
       "      <th>hour</th>\n",
       "      <th></th>\n",
       "      <th></th>\n",
       "      <th></th>\n",
       "      <th></th>\n",
       "      <th></th>\n",
       "      <th></th>\n",
       "      <th></th>\n",
       "      <th></th>\n",
       "      <th></th>\n",
       "      <th></th>\n",
       "    </tr>\n",
       "  </thead>\n",
       "  <tbody>\n",
       "    <tr>\n",
       "      <th>Parainen</th>\n",
       "      <th>2022-07-31 23:00:00</th>\n",
       "      <td>NaN</td>\n",
       "      <td>1.0</td>\n",
       "      <td>NaN</td>\n",
       "      <td>NaN</td>\n",
       "      <td>18.3</td>\n",
       "      <td>NaN</td>\n",
       "      <td>NaN</td>\n",
       "      <td>NaN</td>\n",
       "      <td>NaN</td>\n",
       "      <td>NaN</td>\n",
       "    </tr>\n",
       "    <tr>\n",
       "      <th>Espoo Pohjois-Tapiola 2</th>\n",
       "      <th>2022-08-01 00:00:00</th>\n",
       "      <td>NaN</td>\n",
       "      <td>1.0</td>\n",
       "      <td>0.4</td>\n",
       "      <td>NaN</td>\n",
       "      <td>6.1</td>\n",
       "      <td>NaN</td>\n",
       "      <td>7.7</td>\n",
       "      <td>NaN</td>\n",
       "      <td>3.1</td>\n",
       "      <td>NaN</td>\n",
       "    </tr>\n",
       "    <tr>\n",
       "      <th>Kuopio Haminalahti</th>\n",
       "      <th>2022-08-01 11:00:00</th>\n",
       "      <td>1.6</td>\n",
       "      <td>1.0</td>\n",
       "      <td>NaN</td>\n",
       "      <td>NaN</td>\n",
       "      <td>NaN</td>\n",
       "      <td>NaN</td>\n",
       "      <td>NaN</td>\n",
       "      <td>NaN</td>\n",
       "      <td>NaN</td>\n",
       "      <td>NaN</td>\n",
       "    </tr>\n",
       "    <tr>\n",
       "      <th>Rauma Sinisaari</th>\n",
       "      <th>2022-08-01 05:00:00</th>\n",
       "      <td>0.5</td>\n",
       "      <td>1.0</td>\n",
       "      <td>NaN</td>\n",
       "      <td>NaN</td>\n",
       "      <td>NaN</td>\n",
       "      <td>NaN</td>\n",
       "      <td>NaN</td>\n",
       "      <td>NaN</td>\n",
       "      <td>NaN</td>\n",
       "      <td>0.7</td>\n",
       "    </tr>\n",
       "    <tr>\n",
       "      <th>Naantali keskusta Asematori</th>\n",
       "      <th>2022-08-01 03:00:00</th>\n",
       "      <td>NaN</td>\n",
       "      <td>1.0</td>\n",
       "      <td>NaN</td>\n",
       "      <td>NaN</td>\n",
       "      <td>5.2</td>\n",
       "      <td>NaN</td>\n",
       "      <td>8.2</td>\n",
       "      <td>NaN</td>\n",
       "      <td>NaN</td>\n",
       "      <td>-0.2</td>\n",
       "    </tr>\n",
       "  </tbody>\n",
       "</table>\n",
       "</div>"
      ],
      "text/plain": [
       "                                                 TRSC_PT1H_avg  \\\n",
       "place                       hour                                 \n",
       "Parainen                    2022-07-31 23:00:00            NaN   \n",
       "Espoo Pohjois-Tapiola 2     2022-08-01 00:00:00            NaN   \n",
       "Kuopio Haminalahti          2022-08-01 11:00:00            1.6   \n",
       "Rauma Sinisaari             2022-08-01 05:00:00            0.5   \n",
       "Naantali keskusta Asematori 2022-08-01 03:00:00            NaN   \n",
       "\n",
       "                                                 AQINDEX_PT1H_avg  \\\n",
       "place                       hour                                    \n",
       "Parainen                    2022-07-31 23:00:00               1.0   \n",
       "Espoo Pohjois-Tapiola 2     2022-08-01 00:00:00               1.0   \n",
       "Kuopio Haminalahti          2022-08-01 11:00:00               1.0   \n",
       "Rauma Sinisaari             2022-08-01 05:00:00               1.0   \n",
       "Naantali keskusta Asematori 2022-08-01 03:00:00               1.0   \n",
       "\n",
       "                                                 NO_PT1H_avg  \\\n",
       "place                       hour                               \n",
       "Parainen                    2022-07-31 23:00:00          NaN   \n",
       "Espoo Pohjois-Tapiola 2     2022-08-01 00:00:00          0.4   \n",
       "Kuopio Haminalahti          2022-08-01 11:00:00          NaN   \n",
       "Rauma Sinisaari             2022-08-01 05:00:00          NaN   \n",
       "Naantali keskusta Asematori 2022-08-01 03:00:00          NaN   \n",
       "\n",
       "                                                 QBCPM25_PT1H_AVG  \\\n",
       "place                       hour                                    \n",
       "Parainen                    2022-07-31 23:00:00               NaN   \n",
       "Espoo Pohjois-Tapiola 2     2022-08-01 00:00:00               NaN   \n",
       "Kuopio Haminalahti          2022-08-01 11:00:00               NaN   \n",
       "Rauma Sinisaari             2022-08-01 05:00:00               NaN   \n",
       "Naantali keskusta Asematori 2022-08-01 03:00:00               NaN   \n",
       "\n",
       "                                                 PM10_PT1H_avg  O3_PT1H_avg  \\\n",
       "place                       hour                                              \n",
       "Parainen                    2022-07-31 23:00:00           18.3          NaN   \n",
       "Espoo Pohjois-Tapiola 2     2022-08-01 00:00:00            6.1          NaN   \n",
       "Kuopio Haminalahti          2022-08-01 11:00:00            NaN          NaN   \n",
       "Rauma Sinisaari             2022-08-01 05:00:00            NaN          NaN   \n",
       "Naantali keskusta Asematori 2022-08-01 03:00:00            5.2          NaN   \n",
       "\n",
       "                                                 NO2_PT1H_avg  CO_PT1H_avg  \\\n",
       "place                       hour                                             \n",
       "Parainen                    2022-07-31 23:00:00           NaN          NaN   \n",
       "Espoo Pohjois-Tapiola 2     2022-08-01 00:00:00           7.7          NaN   \n",
       "Kuopio Haminalahti          2022-08-01 11:00:00           NaN          NaN   \n",
       "Rauma Sinisaari             2022-08-01 05:00:00           NaN          NaN   \n",
       "Naantali keskusta Asematori 2022-08-01 03:00:00           8.2          NaN   \n",
       "\n",
       "                                                 PM25_PT1H_avg  SO2_PT1H_avg  \n",
       "place                       hour                                              \n",
       "Parainen                    2022-07-31 23:00:00            NaN           NaN  \n",
       "Espoo Pohjois-Tapiola 2     2022-08-01 00:00:00            3.1           NaN  \n",
       "Kuopio Haminalahti          2022-08-01 11:00:00            NaN           NaN  \n",
       "Rauma Sinisaari             2022-08-01 05:00:00            NaN           0.7  \n",
       "Naantali keskusta Asematori 2022-08-01 03:00:00            NaN          -0.2  "
      ]
     },
     "execution_count": 5,
     "metadata": {},
     "output_type": "execute_result"
    }
   ],
   "source": [
    "dfs = []\n",
    "for name in obs.data:\n",
    "    data = {k: obs.data[name][k]['values'] for k in cols}\n",
    "    idx = pd.DatetimeIndex(name='hour', data=obs.data[name]['times'])\n",
    "    idx0 = pd.CategoricalIndex(name='place', data=[name]*idx.size)\n",
    "    df = pd.DataFrame(data=data, index=[idx0, idx], columns=cols)\n",
    "    dfs.append(df)\n",
    "df = pd.concat(dfs)\n",
    "df.sample(5)"
   ]
  },
  {
   "cell_type": "markdown",
   "id": "e879bc65-d9ac-4f43-8ade-a4fc0be6df82",
   "metadata": {},
   "source": [
    "We'll attach the location metadata for the measurement points to the DataFrame."
   ]
  },
  {
   "cell_type": "code",
   "execution_count": 6,
   "id": "7418bff6-b38b-447e-9a90-2220a8604178",
   "metadata": {},
   "outputs": [],
   "source": [
    "df.attrs.update({'location_metadata': obs.location_metadata})"
   ]
  },
  {
   "cell_type": "markdown",
   "id": "f98f1703-699a-4a52-b720-d5dc5523e063",
   "metadata": {},
   "source": [
    "And finally, save it."
   ]
  },
  {
   "cell_type": "code",
   "execution_count": 7,
   "id": "1758a810-3bf3-4c53-900f-02ee20e67ee8",
   "metadata": {},
   "outputs": [],
   "source": [
    "df.to_parquet('data/airquality.parquet', compression='brotli')"
   ]
  },
  {
   "cell_type": "markdown",
   "id": "985ca2d2-1da0-49dd-b9e3-1503fadd7a22",
   "metadata": {},
   "source": [
    "As Parquet, a single day's data will take about 20 kB, \n",
    "while a compressed JSON file will be around 14 kB."
   ]
  },
  {
   "cell_type": "code",
   "execution_count": 9,
   "id": "e82f1adf-318a-4027-8254-adf6e8203892",
   "metadata": {},
   "outputs": [],
   "source": [
    "with gzip.open('data/airquality.json.gz', 'wt', encoding='utf-8') as f:\n",
    "    out = {'data': obs.data, 'location_metadata': obs.location_metadata}\n",
    "    json.dump(out, f, default=str)"
   ]
  }
 ],
 "metadata": {
  "kernelspec": {
   "display_name": "Python 3 (ipykernel)",
   "language": "python",
   "name": "python3"
  },
  "language_info": {
   "codemirror_mode": {
    "name": "ipython",
    "version": 3
   },
   "file_extension": ".py",
   "mimetype": "text/x-python",
   "name": "python",
   "nbconvert_exporter": "python",
   "pygments_lexer": "ipython3",
   "version": "3.9.13"
  }
 },
 "nbformat": 4,
 "nbformat_minor": 5
}
