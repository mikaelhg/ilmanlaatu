{
 "cells": [
  {
   "cell_type": "markdown",
   "id": "feb482f3-d9bd-465f-b0dd-7f651a379efb",
   "metadata": {},
   "source": [
    "# Convert FMI air quality data to JSON and Parquet\n",
    "\n",
    "## ... from XML and WFS"
   ]
  },
  {
   "cell_type": "code",
   "execution_count": 1,
   "id": "7e8723eb-24c0-443b-8c0a-f97298207d39",
   "metadata": {},
   "outputs": [],
   "source": [
    "from fmiopendata.wfs import download_stored_query\n",
    "import pandas as pd\n",
    "import numpy as np\n",
    "import datetime"
   ]
  },
  {
   "cell_type": "markdown",
   "id": "cf1e3ce5-4f61-40fd-bf16-dbbceee4b820",
   "metadata": {},
   "source": [
    "Let's download some [open air quality data](https://en.ilmatieteenlaitos.fi/open-data-manual-fmi-wfs-services) first."
   ]
  },
  {
   "cell_type": "code",
   "execution_count": 2,
   "id": "f575b742-8654-4cf0-a68e-2649f4535199",
   "metadata": {},
   "outputs": [],
   "source": [
    "query = 'urban::observations::airquality::hourly::multipointcoverage'\n",
    "\n",
    "end_time = datetime.datetime.utcnow()\n",
    "start_time = end_time - datetime.timedelta(days=7)\n",
    "start_time = start_time.isoformat(timespec=\"seconds\") + \"Z\"\n",
    "end_time = end_time.isoformat(timespec=\"seconds\") + \"Z\""
   ]
  },
  {
   "cell_type": "markdown",
   "id": "8ea82376-be9c-4c7c-acd9-329cf731c7ea",
   "metadata": {},
   "source": [
    "When fetching a whole month, the query will take a few minutes."
   ]
  },
  {
   "cell_type": "code",
   "execution_count": 3,
   "id": "fddcb38e-8d8e-45d2-ba6b-deb0941b0834",
   "metadata": {},
   "outputs": [],
   "source": [
    "args = ['timeseries=True', f\"starttime={start_time}\", f\"endtime={end_time}\"]\n",
    "obs = download_stored_query(query, args=args)"
   ]
  },
  {
   "cell_type": "markdown",
   "id": "00df2a69-c6f9-4f8b-a982-3f76fba7bd12",
   "metadata": {},
   "source": [
    "Then we'll pull out a complete list of all possible measurements."
   ]
  },
  {
   "cell_type": "code",
   "execution_count": 4,
   "id": "dc274b70-86d8-40d6-84a9-9edf847d39b8",
   "metadata": {},
   "outputs": [],
   "source": [
    "cols = set([v for p in obs.data for v in obs.data[p]])\n",
    "cols.remove('times')"
   ]
  },
  {
   "cell_type": "markdown",
   "id": "b7ff3af5-dc9c-46ec-9cf2-0bca2e43fb0b",
   "metadata": {},
   "source": [
    "And turn them into DataFrames, which we'll then merge into a single one."
   ]
  },
  {
   "cell_type": "code",
   "execution_count": 5,
   "id": "c9711e98-f472-456c-858b-67ac083a0ecc",
   "metadata": {},
   "outputs": [
    {
     "data": {
      "text/html": [
       "<div>\n",
       "<style scoped>\n",
       "    .dataframe tbody tr th:only-of-type {\n",
       "        vertical-align: middle;\n",
       "    }\n",
       "\n",
       "    .dataframe tbody tr th {\n",
       "        vertical-align: top;\n",
       "    }\n",
       "\n",
       "    .dataframe thead th {\n",
       "        text-align: right;\n",
       "    }\n",
       "</style>\n",
       "<table border=\"1\" class=\"dataframe\">\n",
       "  <thead>\n",
       "    <tr style=\"text-align: right;\">\n",
       "      <th></th>\n",
       "      <th></th>\n",
       "      <th>QBCPM25_PT1H_AVG</th>\n",
       "      <th>AQINDEX_PT1H_avg</th>\n",
       "      <th>CO_PT1H_avg</th>\n",
       "      <th>NO2_PT1H_avg</th>\n",
       "      <th>SO2_PT1H_avg</th>\n",
       "      <th>PM25_PT1H_avg</th>\n",
       "      <th>PM10_PT1H_avg</th>\n",
       "      <th>NO_PT1H_avg</th>\n",
       "      <th>O3_PT1H_avg</th>\n",
       "      <th>TRSC_PT1H_avg</th>\n",
       "    </tr>\n",
       "    <tr>\n",
       "      <th>place</th>\n",
       "      <th>hour</th>\n",
       "      <th></th>\n",
       "      <th></th>\n",
       "      <th></th>\n",
       "      <th></th>\n",
       "      <th></th>\n",
       "      <th></th>\n",
       "      <th></th>\n",
       "      <th></th>\n",
       "      <th></th>\n",
       "      <th></th>\n",
       "    </tr>\n",
       "  </thead>\n",
       "  <tbody>\n",
       "    <tr>\n",
       "      <th>Lappeenranta Tirilä Pekkasenkatu</th>\n",
       "      <th>2022-08-02 20:00:00</th>\n",
       "      <td>NaN</td>\n",
       "      <td>1.0</td>\n",
       "      <td>NaN</td>\n",
       "      <td>NaN</td>\n",
       "      <td>1.1</td>\n",
       "      <td>2.5</td>\n",
       "      <td>NaN</td>\n",
       "      <td>NaN</td>\n",
       "      <td>NaN</td>\n",
       "      <td>-0.1</td>\n",
       "    </tr>\n",
       "    <tr>\n",
       "      <th>Naantali keskusta Asematori</th>\n",
       "      <th>2022-08-02 03:00:00</th>\n",
       "      <td>NaN</td>\n",
       "      <td>1.0</td>\n",
       "      <td>NaN</td>\n",
       "      <td>2.5</td>\n",
       "      <td>-0.4</td>\n",
       "      <td>NaN</td>\n",
       "      <td>5.0</td>\n",
       "      <td>NaN</td>\n",
       "      <td>NaN</td>\n",
       "      <td>NaN</td>\n",
       "    </tr>\n",
       "    <tr>\n",
       "      <th>Savonlinna Olavinkatu</th>\n",
       "      <th>2022-08-01 11:00:00</th>\n",
       "      <td>NaN</td>\n",
       "      <td>1.0</td>\n",
       "      <td>NaN</td>\n",
       "      <td>NaN</td>\n",
       "      <td>NaN</td>\n",
       "      <td>NaN</td>\n",
       "      <td>3.9</td>\n",
       "      <td>NaN</td>\n",
       "      <td>NaN</td>\n",
       "      <td>NaN</td>\n",
       "    </tr>\n",
       "    <tr>\n",
       "      <th>Lahti Laune Pohjoinen Liipolankatu</th>\n",
       "      <th>2022-08-03 03:00:00</th>\n",
       "      <td>NaN</td>\n",
       "      <td>1.0</td>\n",
       "      <td>NaN</td>\n",
       "      <td>9.1</td>\n",
       "      <td>NaN</td>\n",
       "      <td>NaN</td>\n",
       "      <td>4.7</td>\n",
       "      <td>NaN</td>\n",
       "      <td>NaN</td>\n",
       "      <td>NaN</td>\n",
       "    </tr>\n",
       "    <tr>\n",
       "      <th>Varkaus Taulumäki (toripaviljonki)</th>\n",
       "      <th>2022-08-05 10:00:00</th>\n",
       "      <td>NaN</td>\n",
       "      <td>1.0</td>\n",
       "      <td>NaN</td>\n",
       "      <td>5.2</td>\n",
       "      <td>NaN</td>\n",
       "      <td>NaN</td>\n",
       "      <td>NaN</td>\n",
       "      <td>NaN</td>\n",
       "      <td>NaN</td>\n",
       "      <td>0.5</td>\n",
       "    </tr>\n",
       "  </tbody>\n",
       "</table>\n",
       "</div>"
      ],
      "text/plain": [
       "                                                        QBCPM25_PT1H_AVG  \\\n",
       "place                              hour                                    \n",
       "Lappeenranta Tirilä Pekkasenkatu   2022-08-02 20:00:00               NaN   \n",
       "Naantali keskusta Asematori        2022-08-02 03:00:00               NaN   \n",
       "Savonlinna Olavinkatu              2022-08-01 11:00:00               NaN   \n",
       "Lahti Laune Pohjoinen Liipolankatu 2022-08-03 03:00:00               NaN   \n",
       "Varkaus Taulumäki (toripaviljonki) 2022-08-05 10:00:00               NaN   \n",
       "\n",
       "                                                        AQINDEX_PT1H_avg  \\\n",
       "place                              hour                                    \n",
       "Lappeenranta Tirilä Pekkasenkatu   2022-08-02 20:00:00               1.0   \n",
       "Naantali keskusta Asematori        2022-08-02 03:00:00               1.0   \n",
       "Savonlinna Olavinkatu              2022-08-01 11:00:00               1.0   \n",
       "Lahti Laune Pohjoinen Liipolankatu 2022-08-03 03:00:00               1.0   \n",
       "Varkaus Taulumäki (toripaviljonki) 2022-08-05 10:00:00               1.0   \n",
       "\n",
       "                                                        CO_PT1H_avg  \\\n",
       "place                              hour                               \n",
       "Lappeenranta Tirilä Pekkasenkatu   2022-08-02 20:00:00          NaN   \n",
       "Naantali keskusta Asematori        2022-08-02 03:00:00          NaN   \n",
       "Savonlinna Olavinkatu              2022-08-01 11:00:00          NaN   \n",
       "Lahti Laune Pohjoinen Liipolankatu 2022-08-03 03:00:00          NaN   \n",
       "Varkaus Taulumäki (toripaviljonki) 2022-08-05 10:00:00          NaN   \n",
       "\n",
       "                                                        NO2_PT1H_avg  \\\n",
       "place                              hour                                \n",
       "Lappeenranta Tirilä Pekkasenkatu   2022-08-02 20:00:00           NaN   \n",
       "Naantali keskusta Asematori        2022-08-02 03:00:00           2.5   \n",
       "Savonlinna Olavinkatu              2022-08-01 11:00:00           NaN   \n",
       "Lahti Laune Pohjoinen Liipolankatu 2022-08-03 03:00:00           9.1   \n",
       "Varkaus Taulumäki (toripaviljonki) 2022-08-05 10:00:00           5.2   \n",
       "\n",
       "                                                        SO2_PT1H_avg  \\\n",
       "place                              hour                                \n",
       "Lappeenranta Tirilä Pekkasenkatu   2022-08-02 20:00:00           1.1   \n",
       "Naantali keskusta Asematori        2022-08-02 03:00:00          -0.4   \n",
       "Savonlinna Olavinkatu              2022-08-01 11:00:00           NaN   \n",
       "Lahti Laune Pohjoinen Liipolankatu 2022-08-03 03:00:00           NaN   \n",
       "Varkaus Taulumäki (toripaviljonki) 2022-08-05 10:00:00           NaN   \n",
       "\n",
       "                                                        PM25_PT1H_avg  \\\n",
       "place                              hour                                 \n",
       "Lappeenranta Tirilä Pekkasenkatu   2022-08-02 20:00:00            2.5   \n",
       "Naantali keskusta Asematori        2022-08-02 03:00:00            NaN   \n",
       "Savonlinna Olavinkatu              2022-08-01 11:00:00            NaN   \n",
       "Lahti Laune Pohjoinen Liipolankatu 2022-08-03 03:00:00            NaN   \n",
       "Varkaus Taulumäki (toripaviljonki) 2022-08-05 10:00:00            NaN   \n",
       "\n",
       "                                                        PM10_PT1H_avg  \\\n",
       "place                              hour                                 \n",
       "Lappeenranta Tirilä Pekkasenkatu   2022-08-02 20:00:00            NaN   \n",
       "Naantali keskusta Asematori        2022-08-02 03:00:00            5.0   \n",
       "Savonlinna Olavinkatu              2022-08-01 11:00:00            3.9   \n",
       "Lahti Laune Pohjoinen Liipolankatu 2022-08-03 03:00:00            4.7   \n",
       "Varkaus Taulumäki (toripaviljonki) 2022-08-05 10:00:00            NaN   \n",
       "\n",
       "                                                        NO_PT1H_avg  \\\n",
       "place                              hour                               \n",
       "Lappeenranta Tirilä Pekkasenkatu   2022-08-02 20:00:00          NaN   \n",
       "Naantali keskusta Asematori        2022-08-02 03:00:00          NaN   \n",
       "Savonlinna Olavinkatu              2022-08-01 11:00:00          NaN   \n",
       "Lahti Laune Pohjoinen Liipolankatu 2022-08-03 03:00:00          NaN   \n",
       "Varkaus Taulumäki (toripaviljonki) 2022-08-05 10:00:00          NaN   \n",
       "\n",
       "                                                        O3_PT1H_avg  \\\n",
       "place                              hour                               \n",
       "Lappeenranta Tirilä Pekkasenkatu   2022-08-02 20:00:00          NaN   \n",
       "Naantali keskusta Asematori        2022-08-02 03:00:00          NaN   \n",
       "Savonlinna Olavinkatu              2022-08-01 11:00:00          NaN   \n",
       "Lahti Laune Pohjoinen Liipolankatu 2022-08-03 03:00:00          NaN   \n",
       "Varkaus Taulumäki (toripaviljonki) 2022-08-05 10:00:00          NaN   \n",
       "\n",
       "                                                        TRSC_PT1H_avg  \n",
       "place                              hour                                \n",
       "Lappeenranta Tirilä Pekkasenkatu   2022-08-02 20:00:00           -0.1  \n",
       "Naantali keskusta Asematori        2022-08-02 03:00:00            NaN  \n",
       "Savonlinna Olavinkatu              2022-08-01 11:00:00            NaN  \n",
       "Lahti Laune Pohjoinen Liipolankatu 2022-08-03 03:00:00            NaN  \n",
       "Varkaus Taulumäki (toripaviljonki) 2022-08-05 10:00:00            0.5  "
      ]
     },
     "execution_count": 5,
     "metadata": {},
     "output_type": "execute_result"
    }
   ],
   "source": [
    "dfs = []\n",
    "for name in obs.data:\n",
    "    data = {k: obs.data[name][k]['values'] for k in cols}\n",
    "    mi = pd.MultiIndex.from_product([[name], obs.data[name]['times']], names=['place', 'hour'])\n",
    "    df = pd.DataFrame(data=data, index=mi, columns=cols, dtype='float64')\n",
    "    dfs.append(df)\n",
    "df = pd.concat(dfs)\n",
    "df.sample(5)\n",
    "#df.dtypes"
   ]
  },
  {
   "cell_type": "markdown",
   "id": "e879bc65-d9ac-4f43-8ade-a4fc0be6df82",
   "metadata": {},
   "source": [
    "We'll attach the location metadata for the measurement points to the DataFrame."
   ]
  },
  {
   "cell_type": "code",
   "execution_count": 6,
   "id": "7418bff6-b38b-447e-9a90-2220a8604178",
   "metadata": {},
   "outputs": [],
   "source": [
    "df.attrs.update({'location_metadata': obs.location_metadata})"
   ]
  },
  {
   "cell_type": "markdown",
   "id": "f98f1703-699a-4a52-b720-d5dc5523e063",
   "metadata": {},
   "source": [
    "And finally, save it."
   ]
  },
  {
   "cell_type": "code",
   "execution_count": 7,
   "id": "1758a810-3bf3-4c53-900f-02ee20e67ee8",
   "metadata": {},
   "outputs": [],
   "source": [
    "df.to_parquet('data/airquality.parquet')"
   ]
  },
  {
   "cell_type": "markdown",
   "id": "985ca2d2-1da0-49dd-b9e3-1503fadd7a22",
   "metadata": {},
   "source": [
    "As Parquet, one month worth of data will take about 200 kB, \n",
    "while a gzipped JSON file will be around 400 kB.\n",
    "\n",
    "The original XML file was about 6.5 MB, gzipped 500 kB."
   ]
  },
  {
   "cell_type": "code",
   "execution_count": 8,
   "id": "e82f1adf-318a-4027-8254-adf6e8203892",
   "metadata": {},
   "outputs": [],
   "source": [
    "import json\n",
    "import gzip\n",
    "\n",
    "with gzip.open('data/airquality.json.gz', 'wt', encoding='utf-8') as f:\n",
    "    out = {'data': obs.data, 'location_metadata': obs.location_metadata}\n",
    "    json.dump(out, f, default=str)"
   ]
  },
  {
   "cell_type": "code",
   "execution_count": 9,
   "id": "b3b52057-f0ca-4431-987a-a965c2d9fd3f",
   "metadata": {},
   "outputs": [],
   "source": [
    "import defusedxml.ElementTree as ET\n",
    "\n",
    "with gzip.open('data/airquality.xml.gz', 'w') as f:\n",
    "    f.write(ET.tostring(obs._xml))"
   ]
  },
  {
   "cell_type": "code",
   "execution_count": 10,
   "id": "30244dba-722c-45ea-93e3-08a62966adeb",
   "metadata": {},
   "outputs": [
    {
     "name": "stdout",
     "output_type": "stream",
     "text": [
      "-rw-rw-r-- 1 mikael mikael  70539 elo     6 23:45 data/airquality.json.gz\n",
      "-rw-rw-r-- 1 mikael mikael  66922 elo     6 23:45 data/airquality.parquet\n",
      "-rw-rw-r-- 1 mikael mikael 130650 elo     6 23:45 data/airquality.xml.gz\n"
     ]
    }
   ],
   "source": [
    "!ls -Fl data/air*"
   ]
  }
 ],
 "metadata": {
  "kernelspec": {
   "display_name": "Python 3 (ipykernel)",
   "language": "python",
   "name": "python3"
  },
  "language_info": {
   "codemirror_mode": {
    "name": "ipython",
    "version": 3
   },
   "file_extension": ".py",
   "mimetype": "text/x-python",
   "name": "python",
   "nbconvert_exporter": "python",
   "pygments_lexer": "ipython3",
   "version": "3.9.13"
  }
 },
 "nbformat": 4,
 "nbformat_minor": 5
}
