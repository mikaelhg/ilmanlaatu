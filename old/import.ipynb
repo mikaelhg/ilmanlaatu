{
 "cells": [
  {
   "cell_type": "markdown",
   "id": "feb482f3-d9bd-465f-b0dd-7f651a379efb",
   "metadata": {},
   "source": [
    "# Convert FMI air quality data to JSON and Parquet\n",
    "\n",
    "## ... from XML and WFS"
   ]
  },
  {
   "cell_type": "code",
   "execution_count": 2,
   "id": "7e8723eb-24c0-443b-8c0a-f97298207d39",
   "metadata": {},
   "outputs": [],
   "source": [
    "from fmiopendata.wfs import download_stored_query\n",
    "import pandas as pd\n",
    "import numpy as np\n",
    "import datetime"
   ]
  },
  {
   "cell_type": "markdown",
   "id": "cf1e3ce5-4f61-40fd-bf16-dbbceee4b820",
   "metadata": {},
   "source": [
    "Let's download some [open air quality data](https://en.ilmatieteenlaitos.fi/open-data-manual-fmi-wfs-services) first."
   ]
  },
  {
   "cell_type": "code",
   "execution_count": 32,
   "id": "f575b742-8654-4cf0-a68e-2649f4535199",
   "metadata": {},
   "outputs": [],
   "source": [
    "query = 'urban::observations::airquality::hourly::multipointcoverage'\n",
    "end_time = datetime.datetime.utcnow()\n",
    "start_time = end_time - datetime.timedelta(days=7)"
   ]
  },
  {
   "cell_type": "markdown",
   "id": "8ea82376-be9c-4c7c-acd9-329cf731c7ea",
   "metadata": {},
   "source": [
    "When fetching a whole month, the query will take a few minutes."
   ]
  },
  {
   "cell_type": "code",
   "execution_count": 37,
   "id": "fddcb38e-8d8e-45d2-ba6b-deb0941b0834",
   "metadata": {},
   "outputs": [],
   "source": [
    "args = [\n",
    "    'timeseries=True',\n",
    "    f\"starttime={start_time.isoformat(timespec='seconds')}Z\",\n",
    "    f\"endtime={end_time.isoformat(timespec='seconds')}Z\"\n",
    "]\n",
    "obs = download_stored_query(query, args=args)"
   ]
  },
  {
   "cell_type": "markdown",
   "id": "00df2a69-c6f9-4f8b-a982-3f76fba7bd12",
   "metadata": {},
   "source": [
    "Then we'll pull out a complete list of all possible measurements."
   ]
  },
  {
   "cell_type": "code",
   "execution_count": 40,
   "id": "dc274b70-86d8-40d6-84a9-9edf847d39b8",
   "metadata": {},
   "outputs": [],
   "source": [
    "cols = list(set([v for p in obs.data for v in obs.data[p]]))\n",
    "cols.remove('times')"
   ]
  },
  {
   "cell_type": "markdown",
   "id": "b7ff3af5-dc9c-46ec-9cf2-0bca2e43fb0b",
   "metadata": {},
   "source": [
    "And turn them into DataFrames, which we'll then merge into a single one."
   ]
  },
  {
   "cell_type": "code",
   "execution_count": 42,
   "id": "c9711e98-f472-456c-858b-67ac083a0ecc",
   "metadata": {},
   "outputs": [
    {
     "data": {
      "text/plain": [
       "PM10_PT1H_avg       float64\n",
       "CO_PT1H_avg         float64\n",
       "NO2_PT1H_avg        float64\n",
       "AQINDEX_PT1H_avg    float64\n",
       "QBCPM25_PT1H_AVG    float64\n",
       "TRSC_PT1H_avg       float64\n",
       "O3_PT1H_avg         float64\n",
       "NO_PT1H_avg         float64\n",
       "SO2_PT1H_avg        float64\n",
       "PM25_PT1H_avg       float64\n",
       "dtype: object"
      ]
     },
     "execution_count": 42,
     "metadata": {},
     "output_type": "execute_result"
    }
   ],
   "source": [
    "dfs = []\n",
    "for name in obs.data:\n",
    "    data = {k: obs.data[name][k]['values'] for k in cols}\n",
    "    mi = pd.MultiIndex.from_product([[name], obs.data[name]['times']], names=['place', 'hour'])\n",
    "    df = pd.DataFrame(data=data, index=mi, columns=cols, dtype='float64')\n",
    "    dfs.append(df)\n",
    "df = pd.concat(dfs)\n",
    "df.sample(5)"
   ]
  },
  {
   "cell_type": "markdown",
   "id": "e879bc65-d9ac-4f43-8ade-a4fc0be6df82",
   "metadata": {},
   "source": [
    "We'll attach the location metadata for the measurement points to the DataFrame."
   ]
  },
  {
   "cell_type": "code",
   "execution_count": 23,
   "id": "7418bff6-b38b-447e-9a90-2220a8604178",
   "metadata": {},
   "outputs": [],
   "source": [
    "df.attrs.update({'location_metadata': obs.location_metadata})"
   ]
  },
  {
   "cell_type": "markdown",
   "id": "f98f1703-699a-4a52-b720-d5dc5523e063",
   "metadata": {},
   "source": [
    "And finally, save it."
   ]
  },
  {
   "cell_type": "code",
   "execution_count": 24,
   "id": "1758a810-3bf3-4c53-900f-02ee20e67ee8",
   "metadata": {},
   "outputs": [],
   "source": [
    "df.to_parquet('../data/airquality.parquet')"
   ]
  },
  {
   "cell_type": "markdown",
   "id": "985ca2d2-1da0-49dd-b9e3-1503fadd7a22",
   "metadata": {},
   "source": [
    "As Parquet, one month worth of data will take about 200 kB, \n",
    "while a gzipped JSON file will be around 400 kB.\n",
    "\n",
    "The original XML file was about 6.5 MB, gzipped 500 kB."
   ]
  },
  {
   "cell_type": "code",
   "execution_count": 8,
   "id": "e82f1adf-318a-4027-8254-adf6e8203892",
   "metadata": {},
   "outputs": [],
   "source": [
    "import json\n",
    "import gzip\n",
    "\n",
    "with gzip.open('data/airquality.json.gz', 'wt', encoding='utf-8') as f:\n",
    "    out = {'data': obs.data, 'location_metadata': obs.location_metadata}\n",
    "    json.dump(out, f, default=str)"
   ]
  },
  {
   "cell_type": "code",
   "execution_count": 9,
   "id": "b3b52057-f0ca-4431-987a-a965c2d9fd3f",
   "metadata": {},
   "outputs": [],
   "source": [
    "import defusedxml.ElementTree as ET\n",
    "\n",
    "with gzip.open('data/airquality.xml.gz', 'w') as f:\n",
    "    f.write(ET.tostring(obs._xml))"
   ]
  },
  {
   "cell_type": "code",
   "execution_count": 10,
   "id": "30244dba-722c-45ea-93e3-08a62966adeb",
   "metadata": {},
   "outputs": [
    {
     "name": "stdout",
     "output_type": "stream",
     "text": [
      "-rw-rw-r-- 1 mikael mikael  70539 elo     6 23:45 data/airquality.json.gz\n",
      "-rw-rw-r-- 1 mikael mikael  66922 elo     6 23:45 data/airquality.parquet\n",
      "-rw-rw-r-- 1 mikael mikael 130650 elo     6 23:45 data/airquality.xml.gz\n"
     ]
    }
   ],
   "source": [
    "!ls -Fl data/air*"
   ]
  }
 ],
 "metadata": {
  "kernelspec": {
   "display_name": "Python 3.9.13 64-bit ('ilmanlaatu')",
   "language": "python",
   "name": "python3"
  },
  "language_info": {
   "codemirror_mode": {
    "name": "ipython",
    "version": 3
   },
   "file_extension": ".py",
   "mimetype": "text/x-python",
   "name": "python",
   "nbconvert_exporter": "python",
   "pygments_lexer": "ipython3",
   "version": "3.9.13"
  },
  "vscode": {
   "interpreter": {
    "hash": "f8caf43d3cf466003aea421e007eef9a21f6cb4648da0f468441eff5651a7db6"
   }
  }
 },
 "nbformat": 4,
 "nbformat_minor": 5
}
