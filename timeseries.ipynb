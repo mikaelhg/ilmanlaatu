{
 "cells": [
  {
   "cell_type": "markdown",
   "id": "76612536-7937-4172-84d1-eee65ca302bb",
   "metadata": {},
   "source": [
    "# Using the FMI time series interface\n",
    "\n",
    "https://github.com/fmidev/smartmet-plugin-timeseries/wiki/Using-the-Timeseries-API\n",
    "\n",
    "https://github.com/fmidev/smartmet-plugin-timeseries/wiki/Examples\n",
    "\n",
    "https://opendata.fmi.fi/timeseries?producer=airquality_urban&area=Helsinki&param=name,time,fmisid,stationname,PM10_PT1H_avg,PM25_PT1H_avg,O3_PT1H_avg,CO_PT1H_avg,SO2_PT1H_avg,NO2_PT1H_avg,TRSC_PT1H_avg\n",
    "\n",
    "https://opendata.fmi.fi/timeseries?format=ascii&groupareas=0&separator=,&attributes=time,fmisid&producer=airquality_urban&area=Helsinki&param=time,fmisid,PM10_PT1H_avg,PM25_PT1H_avg,O3_PT1H_avg,CO_PT1H_avg,SO2_PT1H_avg,NO2_PT1H_avg,TRSC_PT1H_avg\n"
   ]
  },
  {
   "cell_type": "code",
   "execution_count": 1,
   "id": "afa4141d-1d72-4c43-8bd2-ce2158737e04",
   "metadata": {},
   "outputs": [],
   "source": [
    "import requests\n",
    "import datetime"
   ]
  },
  {
   "cell_type": "code",
   "execution_count": 12,
   "id": "f3586fa1-19c9-4c1d-85d2-bfb401ccf5f6",
   "metadata": {},
   "outputs": [
    {
     "data": {
      "text/plain": [
       "'2022-07-30T20:47:13'"
      ]
     },
     "metadata": {},
     "output_type": "display_data"
    },
    {
     "data": {
      "text/plain": [
       "'2022-08-06T20:47:13'"
      ]
     },
     "metadata": {},
     "output_type": "display_data"
    }
   ],
   "source": [
    "end_time = datetime.datetime.utcnow()\n",
    "start_time = end_time - datetime.timedelta(days=7)\n",
    "start_time = start_time.isoformat(timespec=\"seconds\")\n",
    "end_time = end_time.isoformat(timespec=\"seconds\")\n",
    "\n",
    "display(start_time, end_time)\n",
    "\n",
    "fields = [\n",
    "    'name', 'time', 'fmisid', 'stationname', \n",
    "    'PM10_PT1H_avg', 'PM25_PT1H_avg', \n",
    "    'O3_PT1H_avg', 'CO_PT1H_avg', 'SO2_PT1H_avg', \n",
    "    'NO2_PT1H_avg', 'TRSC_PT1H_avg'\n",
    "]\n",
    "\n",
    "url = 'https://opendata.fmi.fi/timeseries'\n",
    "\n",
    "params = {\n",
    "    'format': 'json',\n",
    "    'groupareas': '0',\n",
    "    'separator': '|',\n",
    "    'producer': 'airquality_urban',\n",
    "    'area': 'Uusimaa',\n",
    "    # 'attributes': ','.join(['time', 'fmisid']),\n",
    "    'attributes': ','.join(['time']),\n",
    "    'param': ','.join(fields),\n",
    "    'starttime': start_time,\n",
    "    'endtime': end_time,\n",
    "    'tz': 'UTC',\n",
    "}\n",
    "\n",
    "data = requests.get(url, params=params).json()"
   ]
  },
  {
   "cell_type": "code",
   "execution_count": 6,
   "id": "6b424360-15a5-430e-b348-c859d21e4d10",
   "metadata": {},
   "outputs": [],
   "source": [
    "#data = requests.get(url, params=params).json()"
   ]
  },
  {
   "cell_type": "code",
   "execution_count": 13,
   "id": "c8fb40bc-953f-4709-aa33-63debbd685f2",
   "metadata": {},
   "outputs": [
    {
     "data": {
      "text/plain": [
       "dict_keys(['20220730T210000', '20220730T220000', '20220730T230000', '20220731T000000', '20220731T010000', '20220731T020000', '20220731T030000', '20220731T040000', '20220731T050000', '20220731T060000', '20220731T070000', '20220731T080000', '20220731T090000', '20220731T100000', '20220731T110000', '20220731T120000', '20220731T130000', '20220731T140000', '20220731T150000', '20220731T160000', '20220731T170000', '20220731T180000', '20220731T190000', '20220731T200000', '20220731T210000', '20220731T220000', '20220731T230000', '20220801T000000', '20220801T010000', '20220801T020000', '20220801T030000', '20220801T040000', '20220801T050000', '20220801T060000', '20220801T070000', '20220801T080000', '20220801T090000', '20220801T100000', '20220801T110000', '20220801T120000', '20220801T130000', '20220801T140000', '20220801T150000', '20220801T160000', '20220801T170000', '20220801T180000', '20220801T190000', '20220801T200000', '20220801T210000', '20220801T220000', '20220801T230000', '20220802T000000', '20220802T010000', '20220802T020000', '20220802T030000', '20220802T040000', '20220802T050000', '20220802T060000', '20220802T070000', '20220802T080000', '20220802T090000', '20220802T100000', '20220802T110000', '20220802T120000', '20220802T130000', '20220802T140000', '20220802T150000', '20220802T160000', '20220802T170000', '20220802T180000', '20220802T190000', '20220802T200000', '20220802T210000', '20220802T220000', '20220802T230000', '20220803T000000', '20220803T010000', '20220803T020000', '20220803T030000', '20220803T040000', '20220803T050000', '20220803T060000', '20220803T070000', '20220803T080000', '20220803T090000', '20220803T100000', '20220803T110000', '20220803T120000', '20220803T130000', '20220803T140000', '20220803T150000', '20220803T160000', '20220803T170000', '20220803T180000', '20220803T190000', '20220803T200000', '20220803T210000', '20220803T220000', '20220803T230000', '20220804T000000', '20220804T010000', '20220804T020000', '20220804T030000', '20220804T040000', '20220804T050000', '20220804T060000', '20220804T070000', '20220804T080000', '20220804T090000', '20220804T100000', '20220804T110000', '20220804T120000', '20220804T130000', '20220804T140000', '20220804T150000', '20220804T160000', '20220804T170000', '20220804T180000', '20220804T190000', '20220804T200000', '20220804T210000', '20220804T220000', '20220804T230000', '20220805T000000', '20220805T010000', '20220805T020000', '20220805T030000', '20220805T040000', '20220805T050000', '20220805T060000', '20220805T070000', '20220805T080000', '20220805T090000', '20220805T100000', '20220805T110000', '20220805T120000', '20220805T130000', '20220805T140000', '20220805T150000', '20220805T160000', '20220805T170000', '20220805T180000', '20220805T190000', '20220805T200000', '20220805T210000', '20220805T220000', '20220805T230000', '20220806T000000', '20220806T010000', '20220806T020000', '20220806T030000', '20220806T040000', '20220806T050000', '20220806T060000', '20220806T070000', '20220806T080000', '20220806T090000', '20220806T100000', '20220806T110000', '20220806T120000', '20220806T130000', '20220806T140000', '20220806T150000', '20220806T160000', '20220806T170000', '20220806T180000', '20220806T190000', '20220806T200000'])"
      ]
     },
     "execution_count": 13,
     "metadata": {},
     "output_type": "execute_result"
    }
   ],
   "source": [
    "data.keys()"
   ]
  }
 ],
 "metadata": {
  "kernelspec": {
   "display_name": "Python 3 (ipykernel)",
   "language": "python",
   "name": "python3"
  },
  "language_info": {
   "codemirror_mode": {
    "name": "ipython",
    "version": 3
   },
   "file_extension": ".py",
   "mimetype": "text/x-python",
   "name": "python",
   "nbconvert_exporter": "python",
   "pygments_lexer": "ipython3",
   "version": "3.9.13"
  }
 },
 "nbformat": 4,
 "nbformat_minor": 5
}
