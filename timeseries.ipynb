{
 "cells": [
  {
   "cell_type": "markdown",
   "id": "76612536-7937-4172-84d1-eee65ca302bb",
   "metadata": {},
   "source": [
    "# Fetching air quality data from the FMI open data timeseries API\n",
    "\n",
    "[API documentation](https://github.com/fmidev/smartmet-plugin-timeseries/blob/master/docs/Using-the-Timeseries-API.md),\n",
    "[API examples](https://github.com/fmidev/smartmet-plugin-timeseries/blob/master/docs/Examples.md),\n",
    "[JSON API example call](https://opendata.fmi.fi/timeseries?format=json&groupareas=0&producer=airquality_urban&area=Helsinki&param=time,fmisid,PM10_PT1H_avg,PM25_PT1H_avg,O3_PT1H_avg,CO_PT1H_avg,SO2_PT1H_avg,NO2_PT1H_avg,TRSC_PT1H_avg),\n",
    "[CSV API call for the fmisid to name mapping](https://opendata.fmi.fi/timeseries?format=ascii&groupareas=0&separator=,&producer=airquality_urban&area=Finland&param=fmisid,name,latitude,longitude&starttime=2022-08-26T08:00:00%2B00:00&endtime=2022-08-26T08:00:00%2B00:00&tz=UTC)."
   ]
  },
  {
   "cell_type": "code",
   "execution_count": 1,
   "id": "afa4141d-1d72-4c43-8bd2-ce2158737e04",
   "metadata": {},
   "outputs": [],
   "source": [
    "import requests\n",
    "import pendulum\n",
    "import pandas as pd\n",
    "import numpy as np"
   ]
  },
  {
   "cell_type": "code",
   "execution_count": 2,
   "id": "f3586fa1-19c9-4c1d-85d2-bfb401ccf5f6",
   "metadata": {},
   "outputs": [],
   "source": [
    "start_time = pendulum.yesterday('UTC')\n",
    "start_time = pendulum.now('UTC').subtract(days=5)\n",
    "end_time = pendulum.tomorrow('UTC')\n",
    "\n",
    "aq_fields = {\n",
    "    'fmisid': np.int32,\n",
    "    'time': np.datetime64,\n",
    "    'AQINDEX_PT1H_avg': np.float64,\n",
    "    'PM10_PT1H_avg': np.float64,\n",
    "    'PM25_PT1H_avg': np.float64,\n",
    "    'O3_PT1H_avg': np.float64,\n",
    "    'CO_PT1H_avg': np.float64,\n",
    "    'SO2_PT1H_avg': np.float64,\n",
    "    'NO2_PT1H_avg': np.float64,\n",
    "    'TRSC_PT1H_avg': np.float64,\n",
    "}\n",
    "\n",
    "url = 'https://opendata.fmi.fi/timeseries'\n",
    "\n",
    "params = {\n",
    "    'format': 'json',\n",
    "    'precision': 'double',\n",
    "    'groupareas': '0',\n",
    "    'producer': 'airquality_urban',\n",
    "    'area': 'Uusimaa',\n",
    "    'param': ','.join(aq_fields.keys()),\n",
    "    'starttime': start_time.isoformat(timespec=\"seconds\"),\n",
    "    'endtime': end_time.isoformat(timespec=\"seconds\"),\n",
    "    'tz': 'UTC',\n",
    "}\n",
    "\n",
    "data = requests.get(url, params=params).json()"
   ]
  },
  {
   "cell_type": "code",
   "execution_count": 3,
   "id": "c8fb40bc-953f-4709-aa33-63debbd685f2",
   "metadata": {},
   "outputs": [
    {
     "ename": "AttributeError",
     "evalue": "'DataFrame' object has no attribute 'set_data_type'",
     "output_type": "error",
     "traceback": [
      "\u001b[0;31m---------------------------------------------------------------------------\u001b[0m",
      "\u001b[0;31mAttributeError\u001b[0m                            Traceback (most recent call last)",
      "\u001b[1;32m/home/mikael/devel/hobbies/ilmanlaatu/timeseries.ipynb Cell 4\u001b[0m in \u001b[0;36m<cell line: 2>\u001b[0;34m()\u001b[0m\n\u001b[1;32m      <a href='vscode-notebook-cell:/home/mikael/devel/hobbies/ilmanlaatu/timeseries.ipynb#W3sZmlsZQ%3D%3D?line=0'>1</a>\u001b[0m df \u001b[39m=\u001b[39m pd\u001b[39m.\u001b[39mDataFrame(data)\u001b[39m.\u001b[39mastype(aq_fields)\n\u001b[0;32m----> <a href='vscode-notebook-cell:/home/mikael/devel/hobbies/ilmanlaatu/timeseries.ipynb#W3sZmlsZQ%3D%3D?line=1'>2</a>\u001b[0m df\u001b[39m.\u001b[39;49mset_data_type({\u001b[39m'\u001b[39m\u001b[39mfmisid\u001b[39m\u001b[39m'\u001b[39m: \u001b[39m'\u001b[39m\u001b[39mquantitative\u001b[39m\u001b[39m'\u001b[39m})\n\u001b[1;32m      <a href='vscode-notebook-cell:/home/mikael/devel/hobbies/ilmanlaatu/timeseries.ipynb#W3sZmlsZQ%3D%3D?line=2'>3</a>\u001b[0m \u001b[39m# df = df.set_index(['fmisid', 'time'])\u001b[39;00m\n\u001b[1;32m      <a href='vscode-notebook-cell:/home/mikael/devel/hobbies/ilmanlaatu/timeseries.ipynb#W3sZmlsZQ%3D%3D?line=3'>4</a>\u001b[0m df[\u001b[39m0\u001b[39m:\u001b[39m10\u001b[39m]\n",
      "File \u001b[0;32m~/.pyenv/versions/3.9.13/envs/ilmanlaatu/lib/python3.9/site-packages/pandas/core/generic.py:5487\u001b[0m, in \u001b[0;36mNDFrame.__getattr__\u001b[0;34m(self, name)\u001b[0m\n\u001b[1;32m   5480\u001b[0m \u001b[39mif\u001b[39;00m (\n\u001b[1;32m   5481\u001b[0m     name \u001b[39mnot\u001b[39;00m \u001b[39min\u001b[39;00m \u001b[39mself\u001b[39m\u001b[39m.\u001b[39m_internal_names_set\n\u001b[1;32m   5482\u001b[0m     \u001b[39mand\u001b[39;00m name \u001b[39mnot\u001b[39;00m \u001b[39min\u001b[39;00m \u001b[39mself\u001b[39m\u001b[39m.\u001b[39m_metadata\n\u001b[1;32m   5483\u001b[0m     \u001b[39mand\u001b[39;00m name \u001b[39mnot\u001b[39;00m \u001b[39min\u001b[39;00m \u001b[39mself\u001b[39m\u001b[39m.\u001b[39m_accessors\n\u001b[1;32m   5484\u001b[0m     \u001b[39mand\u001b[39;00m \u001b[39mself\u001b[39m\u001b[39m.\u001b[39m_info_axis\u001b[39m.\u001b[39m_can_hold_identifiers_and_holds_name(name)\n\u001b[1;32m   5485\u001b[0m ):\n\u001b[1;32m   5486\u001b[0m     \u001b[39mreturn\u001b[39;00m \u001b[39mself\u001b[39m[name]\n\u001b[0;32m-> 5487\u001b[0m \u001b[39mreturn\u001b[39;00m \u001b[39mobject\u001b[39;49m\u001b[39m.\u001b[39;49m\u001b[39m__getattribute__\u001b[39;49m(\u001b[39mself\u001b[39;49m, name)\n",
      "\u001b[0;31mAttributeError\u001b[0m: 'DataFrame' object has no attribute 'set_data_type'"
     ]
    }
   ],
   "source": [
    "df = pd.DataFrame(data).astype(aq_fields)\n",
    "df = df.set_index(['fmisid', 'time'])\n",
    "df[0:10]"
   ]
  },
  {
   "cell_type": "code",
   "execution_count": null,
   "id": "27f90c35-881b-4e50-975e-99e867f951bd",
   "metadata": {},
   "outputs": [],
   "source": [
    "df.to_parquet('data/airquality.parquet', compression='zstd')"
   ]
  }
 ],
 "metadata": {
  "kernelspec": {
   "display_name": "Python 3 (ipykernel)",
   "language": "python",
   "name": "python3"
  },
  "language_info": {
   "codemirror_mode": {
    "name": "ipython",
    "version": 3
   },
   "file_extension": ".py",
   "mimetype": "text/x-python",
   "name": "python",
   "nbconvert_exporter": "python",
   "pygments_lexer": "ipython3",
   "version": "3.9.13"
  },
  "vscode": {
   "interpreter": {
    "hash": "f8caf43d3cf466003aea421e007eef9a21f6cb4648da0f468441eff5651a7db6"
   }
  }
 },
 "nbformat": 4,
 "nbformat_minor": 5
}
