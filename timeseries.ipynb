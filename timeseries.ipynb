{
 "cells": [
  {
   "cell_type": "markdown",
   "id": "76612536-7937-4172-84d1-eee65ca302bb",
   "metadata": {},
   "source": [
    "# Using the FMI time series interface\n",
    "\n",
    "https://github.com/fmidev/smartmet-plugin-timeseries/wiki/Using-the-Timeseries-API\n",
    "\n",
    "https://github.com/fmidev/smartmet-plugin-timeseries/wiki/Examples\n",
    "\n",
    "https://opendata.fmi.fi/timeseries?producer=airquality_urban&area=Helsinki&param=name,time,fmisid,stationname,PM10_PT1H_avg,PM25_PT1H_avg,O3_PT1H_avg,CO_PT1H_avg,SO2_PT1H_avg,NO2_PT1H_avg,TRSC_PT1H_avg\n",
    "\n",
    "https://opendata.fmi.fi/timeseries?format=ascii&groupareas=0&separator=,&attributes=time,fmisid&producer=airquality_urban&area=Helsinki&param=time,fmisid,PM10_PT1H_avg,PM25_PT1H_avg,O3_PT1H_avg,CO_PT1H_avg,SO2_PT1H_avg,NO2_PT1H_avg,TRSC_PT1H_avg\n"
   ]
  },
  {
   "cell_type": "code",
   "execution_count": 13,
   "id": "afa4141d-1d72-4c43-8bd2-ce2158737e04",
   "metadata": {},
   "outputs": [],
   "source": [
    "import requests\n",
    "import datetime"
   ]
  },
  {
   "cell_type": "code",
   "execution_count": 22,
   "id": "f3586fa1-19c9-4c1d-85d2-bfb401ccf5f6",
   "metadata": {},
   "outputs": [
    {
     "data": {
      "text/plain": [
       "'2022-07-27T14:39:51'"
      ]
     },
     "metadata": {},
     "output_type": "display_data"
    },
    {
     "data": {
      "text/plain": [
       "'2022-08-03T14:39:51'"
      ]
     },
     "metadata": {},
     "output_type": "display_data"
    }
   ],
   "source": [
    "end_time = datetime.datetime.utcnow()\n",
    "start_time = end_time - datetime.timedelta(days=7)\n",
    "start_time = start_time.isoformat(timespec=\"seconds\")\n",
    "end_time = end_time.isoformat(timespec=\"seconds\")\n",
    "\n",
    "display(start_time, end_time)\n",
    "\n",
    "fields = [\n",
    "    'name', 'time', 'fmisid', 'stationname', \n",
    "    'PM10_PT1H_avg', 'PM25_PT1H_avg', \n",
    "    'O3_PT1H_avg', 'CO_PT1H_avg', 'SO2_PT1H_avg', \n",
    "    'NO2_PT1H_avg', 'TRSC_PT1H_avg'\n",
    "]\n",
    "\n",
    "url = 'https://opendata.fmi.fi/timeseries'\n",
    "\n",
    "params = {\n",
    "    'format': 'json',\n",
    "    'groupareas': '0',\n",
    "    'separator': '|',\n",
    "    'producer': 'airquality_urban',\n",
    "    'area': 'Helsinki',\n",
    "    # 'attributes': ','.join(['time', 'fmisid']),\n",
    "    'attributes': ','.join(['time']),\n",
    "    'param': ','.join(fields),\n",
    "    'starttime': start_time,\n",
    "    'endtime': end_time,\n",
    "    'tz': 'UTC',\n",
    "}"
   ]
  },
  {
   "cell_type": "code",
   "execution_count": 19,
   "id": "6b424360-15a5-430e-b348-c859d21e4d10",
   "metadata": {},
   "outputs": [],
   "source": [
    "data = requests.get(url, params=params).json()"
   ]
  },
  {
   "cell_type": "code",
   "execution_count": 24,
   "id": "c8fb40bc-953f-4709-aa33-63debbd685f2",
   "metadata": {},
   "outputs": [
    {
     "data": {
      "text/plain": [
       "dict_keys(['20220727T150000', '20220727T160000', '20220727T170000', '20220727T180000', '20220727T190000', '20220727T200000', '20220727T210000', '20220727T220000', '20220727T230000', '20220728T000000', '20220728T010000', '20220728T020000', '20220728T030000', '20220728T040000', '20220728T050000', '20220728T060000', '20220728T070000', '20220728T080000', '20220728T090000', '20220728T100000', '20220728T110000', '20220728T120000', '20220728T130000', '20220728T140000', '20220728T150000', '20220728T160000', '20220728T170000', '20220728T180000', '20220728T190000', '20220728T200000', '20220728T210000', '20220728T220000', '20220728T230000', '20220729T000000', '20220729T010000', '20220729T020000', '20220729T030000', '20220729T040000', '20220729T050000', '20220729T060000', '20220729T070000', '20220729T080000', '20220729T090000', '20220729T100000', '20220729T110000', '20220729T120000', '20220729T130000', '20220729T140000', '20220729T150000', '20220729T160000', '20220729T170000', '20220729T180000', '20220729T190000', '20220729T200000', '20220729T210000', '20220729T220000', '20220729T230000', '20220730T000000', '20220730T010000', '20220730T020000', '20220730T030000', '20220730T040000', '20220730T050000', '20220730T060000', '20220730T070000', '20220730T080000', '20220730T090000', '20220730T100000', '20220730T110000', '20220730T120000', '20220730T130000', '20220730T140000', '20220730T150000', '20220730T160000', '20220730T170000', '20220730T180000', '20220730T190000', '20220730T200000', '20220730T210000', '20220730T220000', '20220730T230000', '20220731T000000', '20220731T010000', '20220731T020000', '20220731T030000', '20220731T040000', '20220731T050000', '20220731T060000', '20220731T070000', '20220731T080000', '20220731T090000', '20220731T100000', '20220731T110000', '20220731T120000', '20220731T130000', '20220731T140000', '20220731T150000', '20220731T160000', '20220731T170000', '20220731T180000', '20220731T190000', '20220731T200000', '20220731T210000', '20220731T220000', '20220731T230000', '20220801T000000', '20220801T010000', '20220801T020000', '20220801T030000', '20220801T040000', '20220801T050000', '20220801T060000', '20220801T070000', '20220801T080000', '20220801T090000', '20220801T100000', '20220801T110000', '20220801T120000', '20220801T130000', '20220801T140000', '20220801T150000', '20220801T160000', '20220801T170000', '20220801T180000', '20220801T190000', '20220801T200000', '20220801T210000', '20220801T220000', '20220801T230000', '20220802T000000', '20220802T010000', '20220802T020000', '20220802T030000', '20220802T040000', '20220802T050000', '20220802T060000', '20220802T070000', '20220802T080000', '20220802T090000', '20220802T100000', '20220802T110000', '20220802T120000', '20220802T130000', '20220802T140000', '20220802T150000', '20220802T160000', '20220802T170000', '20220802T180000', '20220802T190000', '20220802T200000', '20220802T210000', '20220802T220000', '20220802T230000', '20220803T000000', '20220803T010000', '20220803T020000', '20220803T030000', '20220803T040000', '20220803T050000', '20220803T060000', '20220803T070000', '20220803T080000', '20220803T090000', '20220803T100000', '20220803T110000', '20220803T120000', '20220803T130000', '20220803T140000'])"
      ]
     },
     "execution_count": 24,
     "metadata": {},
     "output_type": "execute_result"
    }
   ],
   "source": [
    "data.keys()"
   ]
  }
 ],
 "metadata": {
  "kernelspec": {
   "display_name": "Python 3 (ipykernel)",
   "language": "python",
   "name": "python3"
  },
  "language_info": {
   "codemirror_mode": {
    "name": "ipython",
    "version": 3
   },
   "file_extension": ".py",
   "mimetype": "text/x-python",
   "name": "python",
   "nbconvert_exporter": "python",
   "pygments_lexer": "ipython3",
   "version": "3.9.13"
  }
 },
 "nbformat": 4,
 "nbformat_minor": 5
}
